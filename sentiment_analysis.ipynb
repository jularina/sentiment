{
 "cells": [
  {
   "cell_type": "code",
   "execution_count": 479,
   "id": "2c7bb51b-44ef-494b-8c48-8e928f2074e8",
   "metadata": {},
   "outputs": [],
   "source": [
    "import pandas as pd\n",
    "import numpy as np\n",
    "from string import punctuation\n",
    "import re\n",
    "from nltk.corpus import stopwords\n",
    "from collections import Counter \n",
    "from sklearn.model_selection import train_test_split\n",
    "import torch\n",
    "from torch.utils.data import DataLoader, TensorDataset\n",
    "import torch.nn as nn\n",
    "from matplotlib import pyplot as plt\n",
    "import random\n",
    "from sklearn.metrics import confusion_matrix\n",
    "import warnings"
   ]
  },
  {
   "cell_type": "code",
   "execution_count": 480,
   "id": "a031bd61-0ce0-405b-b1de-f5c015113e2a",
   "metadata": {},
   "outputs": [],
   "source": [
    "torch.manual_seed(2023)\n",
    "torch.cuda.manual_seed(2023)\n",
    "random.seed(2023)\n",
    "warnings.filterwarnings(\"ignore\")"
   ]
  },
  {
   "cell_type": "markdown",
   "id": "73443ac3-a549-4f27-9f8c-c7c1781b8394",
   "metadata": {},
   "source": [
    "## 1. Exploratory Data Analysis and Data Cleaning"
   ]
  },
  {
   "cell_type": "code",
   "execution_count": 376,
   "id": "88cc6397-9136-472f-bdb1-f127d7ad9109",
   "metadata": {},
   "outputs": [
    {
     "data": {
      "text/html": [
       "<div>\n",
       "<style scoped>\n",
       "    .dataframe tbody tr th:only-of-type {\n",
       "        vertical-align: middle;\n",
       "    }\n",
       "\n",
       "    .dataframe tbody tr th {\n",
       "        vertical-align: top;\n",
       "    }\n",
       "\n",
       "    .dataframe thead th {\n",
       "        text-align: right;\n",
       "    }\n",
       "</style>\n",
       "<table border=\"1\" class=\"dataframe\">\n",
       "  <thead>\n",
       "    <tr style=\"text-align: right;\">\n",
       "      <th></th>\n",
       "      <th>FBPost</th>\n",
       "      <th>Label</th>\n",
       "    </tr>\n",
       "  </thead>\n",
       "  <tbody>\n",
       "    <tr>\n",
       "      <th>0</th>\n",
       "      <td>Drug Runners and  a U.S. Senator have somethin...</td>\n",
       "      <td>O</td>\n",
       "    </tr>\n",
       "    <tr>\n",
       "      <th>1</th>\n",
       "      <td>Heres a single, to add, to Kindle. Just read t...</td>\n",
       "      <td>O</td>\n",
       "    </tr>\n",
       "    <tr>\n",
       "      <th>2</th>\n",
       "      <td>If you tire of Non-Fiction.. Check out http://...</td>\n",
       "      <td>O</td>\n",
       "    </tr>\n",
       "    <tr>\n",
       "      <th>3</th>\n",
       "      <td>Ghost of Round Island is supposedly nonfiction.</td>\n",
       "      <td>O</td>\n",
       "    </tr>\n",
       "    <tr>\n",
       "      <th>4</th>\n",
       "      <td>Why is Barnes and Nobles version of the Kindle...</td>\n",
       "      <td>N</td>\n",
       "    </tr>\n",
       "  </tbody>\n",
       "</table>\n",
       "</div>"
      ],
      "text/plain": [
       "                                              FBPost Label\n",
       "0  Drug Runners and  a U.S. Senator have somethin...     O\n",
       "1  Heres a single, to add, to Kindle. Just read t...     O\n",
       "2  If you tire of Non-Fiction.. Check out http://...     O\n",
       "3    Ghost of Round Island is supposedly nonfiction.     O\n",
       "4  Why is Barnes and Nobles version of the Kindle...     N"
      ]
     },
     "execution_count": 376,
     "metadata": {},
     "output_type": "execute_result"
    }
   ],
   "source": [
    "df = pd.read_csv('fb_sentiment.csv',index_col=0)\n",
    "df.head()"
   ]
  },
  {
   "cell_type": "code",
   "execution_count": 377,
   "id": "3582d66a-210a-4375-85f9-0f51a5023d33",
   "metadata": {},
   "outputs": [
    {
     "name": "stdout",
     "output_type": "stream",
     "text": [
      "Dataset has 1000 posts.\n"
     ]
    }
   ],
   "source": [
    "print(\"Dataset has {} posts.\".format(df.shape[0]))"
   ]
  },
  {
   "cell_type": "markdown",
   "id": "34427409-b74f-4033-b83a-725bac229b3b",
   "metadata": {},
   "source": [
    "It can be seen that the labels classes are imbalanced, it has to be taken into account while train/test split stage. Moreover, for the imbalanced classes the accuracy metric is not the best mark of the result. \n",
    "\n",
    "As far as I understand, the original names of the labels are - 'Positive', 'Negative', 'Other'. Of course, in real life it is worth to understand what the label 'Other' means and whether to include/not to include it in the model. Here due to the small dataset size it is included."
   ]
  },
  {
   "cell_type": "code",
   "execution_count": 378,
   "id": "9f7d4178-f2fd-4211-9543-1c6e2c59ae4c",
   "metadata": {},
   "outputs": [
    {
     "data": {
      "image/png": "[encoded data removed]",
      "text/plain": [
       "<Figure size 640x480 with 1 Axes>"
      ]
     },
     "metadata": {},
     "output_type": "display_data"
    }
   ],
   "source": [
    "ax = df['Label'].value_counts().plot(kind='bar',color='slateblue',rot=0)\n",
    "ax.bar_label(ax.containers[0])\n",
    "plt.title(\"Number of each label type.\")\n",
    "plt.show()"
   ]
  },
  {
   "cell_type": "markdown",
   "id": "2bcdf112-2214-41fb-a0eb-a02cacd465b0",
   "metadata": {},
   "source": [
    "The process of cleaning is done in accordance with recommendations from the Section 3.1 of Paper [\"Social Emotion Mining Techniques\n",
    "for Facebook Posts Reaction Prediction\"](https://arxiv.org/pdf/1712.03249.pdf)."
   ]
  },
  {
   "cell_type": "code",
   "execution_count": 379,
   "id": "ccbd72ae-d161-480d-9b6d-32c25768fad9",
   "metadata": {},
   "outputs": [
    {
     "name": "stdout",
     "output_type": "stream",
     "text": [
      "After cleaning only 991 posts are left.\n"
     ]
    }
   ],
   "source": [
    "stop_words = stopwords.words('english')\n",
    "\n",
    "def clean(post):\n",
    "    \"\"\" Cleanes each post from unnecessary symbols.\"\"\"\n",
    "    \n",
    "    post = post.lower()\n",
    "    post = re.sub('http://\\S+|https://\\S+', '', post)\n",
    "    post = re.sub('www.\\S+', '', post)\n",
    "    post = \"\".join([word for word in post if word not in punctuation])\n",
    "    post = \"\".join([word for word in post if word.isalpha() or word==' '])\n",
    "    post = re.sub(' +', ' ',post)\n",
    "    post = post.split()\n",
    "    post = \" \".join([word for word in post if word not in stop_words])\n",
    "    \n",
    "    return post\n",
    "    \n",
    "# Clean the posts\n",
    "df[\"FBPost\"] =  df[\"FBPost\"].apply(lambda post: clean(post))\n",
    "df = df[df['FBPost'] != '']\n",
    "print(\"After cleaning only {} posts are left.\".format(df.shape[0]))\n",
    "\n",
    "# Encode the labels\n",
    "df[\"LabelIdx\"] = np.where(df[\"Label\"]=='P',2,np.where(df[\"Label\"]=='O',1,0))\n",
    "\n",
    "# Create corpus and labels\n",
    "corpus, labels = list(df['FBPost']), list(df['LabelIdx'])"
   ]
  },
  {
   "cell_type": "markdown",
   "id": "644171d2-ec62-4721-838f-d87d015771fe",
   "metadata": {},
   "source": [
    "The sequence length for all the encoded posts has to be chosen carefully and here the length of the original posts can help. As it can be seen, the distribution is not normal, that is why the median metric instead of mean is used. There are practically no posts with lengths larger 45, that is why this sequence length is chosen further on."
   ]
  },
  {
   "cell_type": "code",
   "execution_count": 451,
   "id": "eb1d3350-c539-4d7f-95c2-4000917796a3",
   "metadata": {},
   "outputs": [
    {
     "name": "stdout",
     "output_type": "stream",
     "text": [
      "Median length of the post:  8.0\n",
      "Max length of the post:  119\n",
      "Min length of the post:  1\n"
     ]
    },
    {
     "data": {
      "image/png": "[encoded data removed]",
      "text/plain": [
       "<Figure size 640x480 with 1 Axes>"
      ]
     },
     "metadata": {},
     "output_type": "display_data"
    }
   ],
   "source": [
    "posts_lengths = [len(post.split()) for post in corpus]\n",
    "print(\"Median length of the post: \", np.median(posts_lengths))\n",
    "print(\"Max length of the post: \", max(posts_lengths))\n",
    "print(\"Min length of the post: \", min(posts_lengths))\n",
    "\n",
    "plt.hist(posts_lengths, bins=10,color='slateblue')\n",
    "plt.show()"
   ]
  },
  {
   "cell_type": "markdown",
   "id": "a85c6a65-db44-49c3-bddd-dbc96b29b1f8",
   "metadata": {},
   "source": [
    "## 2. Feature extraction"
   ]
  },
  {
   "cell_type": "code",
   "execution_count": 381,
   "id": "2c6113c7-06c5-44fa-ac25-5a47460fa419",
   "metadata": {},
   "outputs": [
    {
     "name": "stdout",
     "output_type": "stream",
     "text": [
      "Most common words:  [('kindle', 630), ('love', 378), ('books', 186), ('read', 157), ('one', 142), ('book', 125), ('reading', 104), ('would', 92), ('get', 78), ('like', 76)] \n",
      "\n",
      "The size of the vocabulary:  2839\n"
     ]
    }
   ],
   "source": [
    "def create_vocab(corpus):\n",
    "    text = \" \".join(corpus)\n",
    "    words = text.split()\n",
    "    words_count = Counter(words)\n",
    "    words_num=len(words)\n",
    "    words_sorted=words_count.most_common(words_num)\n",
    "    print(\"Most common words: \", words_sorted[:10],\"\\n\")\n",
    "\n",
    "    words_idx={w:i+1 for i,(w,c) in enumerate(words_sorted)}\n",
    "    vocab_size = len(words_idx)\n",
    "    print(\"The size of the vocabulary: \", vocab_size)\n",
    "    \n",
    "    return words_idx\n",
    "\n",
    "words_idx = create_vocab(corpus)"
   ]
  },
  {
   "cell_type": "code",
   "execution_count": 382,
   "id": "d12f93da-8d36-47f2-ab4f-0aacb2583456",
   "metadata": {},
   "outputs": [],
   "source": [
    "def encode_post(post):\n",
    "    \"\"\" Encode the post.\"\"\"\n",
    "    \n",
    "    post_encoded=list()\n",
    "    for word in post.split():\n",
    "        if word not in words_idx.keys():\n",
    "            post_encoded.append(0)\n",
    "        else:\n",
    "            post_encoded.append(words_idx[word])\n",
    "            \n",
    "    return post_encoded\n",
    "\n",
    "corpus_encoded = [encode_post(post) for post in corpus]"
   ]
  },
  {
   "cell_type": "code",
   "execution_count": 384,
   "id": "3e38be3b-d05f-4227-a4d2-2a088db22076",
   "metadata": {},
   "outputs": [],
   "source": [
    "def pad_post(corpus_encoded, sequence_length=30):\n",
    "    \"\"\" Padding of the post.\"\"\"\n",
    "    \n",
    "    features=np.zeros((len(corpus_encoded), sequence_length), dtype=int)\n",
    "    for i, post in enumerate(corpus_encoded):\n",
    "        post_len=len(post)\n",
    "        if (post_len<=sequence_length):\n",
    "            zeros=list(np.zeros(sequence_length-post_len))\n",
    "            new=zeros+post\n",
    "        else:\n",
    "            new=post[:sequence_length]\n",
    "        features[i,:]=np.array(new)\n",
    "        \n",
    "    return features\n",
    "\n",
    "sequence_length=45\n",
    "features = pad_post(corpus_encoded,sequence_length=sequence_length)"
   ]
  },
  {
   "cell_type": "code",
   "execution_count": 385,
   "id": "ddff886e-e06e-489e-b821-8d129730a0f6",
   "metadata": {},
   "outputs": [],
   "source": [
    "# Create train/validation/test datasets\n",
    "X_train, X_val, y_train, y_val = train_test_split(features, labels, stratify=labels, test_size=0.2)\n",
    "X_val, X_test, y_val, y_test = train_test_split(X_val, y_val, stratify=y_val, test_size=0.5)\n",
    "\n",
    "train_data=TensorDataset(torch.LongTensor(X_train), torch.LongTensor(y_train))\n",
    "valid_data=TensorDataset(torch.LongTensor(X_val), torch.LongTensor(y_val))\n",
    "test_data=TensorDataset(torch.LongTensor(X_test), torch.LongTensor(y_test))\n",
    "\n",
    "batch_size=50\n",
    "train_loader=DataLoader(train_data, batch_size=batch_size, shuffle=True)\n",
    "valid_loader=DataLoader(valid_data, batch_size=batch_size, shuffle=True)\n",
    "test_loader=DataLoader(test_data, batch_size=batch_size, shuffle=True)"
   ]
  },
  {
   "cell_type": "markdown",
   "id": "d2796fea-ea6b-41b6-96f3-eb46325af9fb",
   "metadata": {},
   "source": [
    "## 3. RNN Model train and test"
   ]
  },
  {
   "cell_type": "markdown",
   "id": "bc8d9354-a061-46ff-ae0f-a2403d55e9c2",
   "metadata": {},
   "source": [
    "The neural network is the combination of the standard RNN and LSTM approaches. Here the model consists of:\n",
    "- Embedding layer\n",
    "- 2 LSTM layers\n",
    "- Linear layer to produce the 3-dim output.\n",
    "\n",
    "The data is not that massive and the post sequences are not very long, that is why the model does not need to be heavy. As we will see that strategy is going to work. After 4/5 epochs the model starts loosing in validation metric and overfits, that is why epochs=5 is chosen."
   ]
  },
  {
   "cell_type": "code",
   "execution_count": 402,
   "id": "1faac62a-1499-45a7-b8ad-f67cbf826e6b",
   "metadata": {},
   "outputs": [],
   "source": [
    "class RnnSent(nn.Module):\n",
    "    \"\"\"The RNN model for Sentiment analysis.\"\"\"\n",
    "    def __init__(self, vocab_size, output_size, embedding_dim, hidden_dim, n_layers, drop_prob=0.5):    \n",
    "        super().__init__()\n",
    "        self.output_size=output_size\n",
    "        self.n_layers=n_layers\n",
    "        self.hidden_dim=hidden_dim\n",
    "        \n",
    "        # Layers\n",
    "        self.embedding=nn.Embedding(vocab_size, embedding_dim)\n",
    "        self.lstm=nn.LSTM(embedding_dim, hidden_dim, n_layers, dropout=drop_prob, batch_first=True)\n",
    "        self.fc1=nn.Linear(hidden_dim, output_size)\n",
    "        \n",
    "    def forward(self, x, h):\n",
    "        \"\"\"Perform forward pass.\"\"\"\n",
    "\n",
    "        embed=self.embedding(x)\n",
    "        lstm_out, (ht, ct) = self.lstm(embed, h)    \n",
    "        out=self.fc1(ht[-1])\n",
    "\n",
    "        return out, (ht, ct)\n",
    "    \n",
    "    def init_hidden(self, batch_size):\n",
    "        \"\"\"Initialize Hidden State\"\"\"\n",
    "        \n",
    "        weight = next(self.parameters()).data\n",
    "        \n",
    "        if (train_on_gpu):\n",
    "            hidden = (weight.new(self.n_layers, batch_size, self.hidden_dim).zero_().cuda(),\n",
    "                  weight.new(self.n_layers, batch_size, self.hidden_dim).zero_().cuda())\n",
    "        else:\n",
    "            hidden = (weight.new(self.n_layers, batch_size, self.hidden_dim).zero_(),\n",
    "                      weight.new(self.n_layers, batch_size, self.hidden_dim).zero_())\n",
    "        \n",
    "        return hidden"
   ]
  },
  {
   "cell_type": "code",
   "execution_count": 403,
   "id": "fd2ba9d8-1636-4d12-b4f4-79c19cd4d877",
   "metadata": {},
   "outputs": [
    {
     "name": "stdout",
     "output_type": "stream",
     "text": [
      "RnnSent(\n",
      "  (embedding): Embedding(2840, 400)\n",
      "  (lstm): LSTM(400, 64, num_layers=2, batch_first=True, dropout=0.5)\n",
      "  (fc1): Linear(in_features=64, out_features=3, bias=True)\n",
      ")\n"
     ]
    }
   ],
   "source": [
    "# Parameters for neural network\n",
    "vocab_size = len(words_idx)+1\n",
    "output_size = 3 # Corresponds to number of classes\n",
    "embedding_dim = 400 # Embedding dimension for each word\n",
    "hidden_dim = 64\n",
    "n_layers = 2 # Number of LSTM units\n",
    "\n",
    "net = RnnSent(vocab_size, output_size, embedding_dim, hidden_dim, n_layers)\n",
    "print(net)"
   ]
  },
  {
   "cell_type": "markdown",
   "id": "cbf2ed54-2b0c-403e-8ca8-5e69d5372276",
   "metadata": {},
   "source": [
    "### Train the model"
   ]
  },
  {
   "cell_type": "code",
   "execution_count": 404,
   "id": "e12fa435-a61b-4dfa-a4f3-c38414ba84aa",
   "metadata": {},
   "outputs": [
    {
     "name": "stdout",
     "output_type": "stream",
     "text": [
      "Epoch: 1... Train mean cross-entropy loss: 0.992... Validation mean cross-entropy loss: 0.864\n",
      "Epoch: 2... Train mean cross-entropy loss: 0.786... Validation mean cross-entropy loss: 0.796\n",
      "Epoch: 3... Train mean cross-entropy loss: 0.662... Validation mean cross-entropy loss: 0.701\n",
      "Epoch: 4... Train mean cross-entropy loss: 0.494... Validation mean cross-entropy loss: 0.679\n",
      "Epoch: 5... Train mean cross-entropy loss: 0.352... Validation mean cross-entropy loss: 0.590\n"
     ]
    },
    {
     "data": {
      "image/png": "[encoded data removed]",
      "text/plain": [
       "<Figure size 640x480 with 1 Axes>"
      ]
     },
     "metadata": {},
     "output_type": "display_data"
    }
   ],
   "source": [
    "# Check availability of CUDA\n",
    "train_on_gpu = torch.cuda.is_available()\n",
    "train_on_gp = False\n",
    "if(train_on_gpu):\n",
    "    net.cuda()\n",
    "\n",
    "# Training parameters\n",
    "lr = 0.001\n",
    "epochs = 5 # Larger number of epochs has been tested, but it leads to overfitting\n",
    "criterion = nn.CrossEntropyLoss()\n",
    "optimizer = torch.optim.Adam(net.parameters(), lr=lr)\n",
    "\n",
    "# Train the net\n",
    "net.train()\n",
    "val_losses_means, train_losses_means = [], []\n",
    "\n",
    "for e in range(epochs):\n",
    "    train_losses = []\n",
    "    \n",
    "    # Loop through train batches\n",
    "    for inputs, labels in train_loader:\n",
    "        batch_size_current = inputs.shape[0]\n",
    "        h = net.init_hidden(batch_size_current)\n",
    "\n",
    "        if(train_on_gpu):\n",
    "            inputs=inputs.cuda()\n",
    "            labels=labels.cuda()\n",
    "\n",
    "        optimizer.zero_grad()\n",
    "        \n",
    "        output, _ = net(inputs, h)\n",
    "        loss = criterion(output.squeeze(), labels)\n",
    "        train_losses.append(loss.item())\n",
    "        loss.backward()\n",
    "        optimizer.step()\n",
    "\n",
    "    # Validation\n",
    "    net.eval()\n",
    "    val_losses = []\n",
    "    \n",
    "    for inputs, labels in valid_loader:\n",
    "        batch_size_current = inputs.shape[0]\n",
    "        val_h = net.init_hidden(batch_size_current)\n",
    "\n",
    "        if(train_on_gpu):\n",
    "            inputs, labels = inputs.cuda(), labels.cuda()  \n",
    "            \n",
    "        output, _ = net(inputs, val_h)\n",
    "        val_loss = criterion(output.squeeze(), labels)\n",
    "        val_losses.append(val_loss.item())\n",
    "        \n",
    "    val_losses_means.append(np.mean(val_losses))\n",
    "    train_losses_means.append(np.mean(train_losses))\n",
    "\n",
    "    print(\"Epoch: {}...\".format(e+1),\n",
    "          \"Train mean cross-entropy loss: {:.3f}...\".format(np.mean(train_losses)),\n",
    "          \"Validation mean cross-entropy loss: {:.3f}\".format(np.mean(val_losses)))\n",
    "    \n",
    "    net.train()\n",
    "    \n",
    "plt.plot(np.array(range(epochs))+1, val_losses_means, color='slateblue', label = \"Validation loss\")\n",
    "plt.plot(np.array(range(epochs))+1, train_losses_means, color='purple', label = \"Train loss\")\n",
    "plt.title(\"Validation mean cross-entropy loss through the epochs.\")\n",
    "plt.legend()\n",
    "plt.xlabel(\"Epoch\")\n",
    "plt.ylabel(\"Mean cross-entropy loss\")\n",
    "plt.show()"
   ]
  },
  {
   "cell_type": "code",
   "execution_count": 405,
   "id": "c802971c-54b1-4caa-8068-a035233d3ddd",
   "metadata": {},
   "outputs": [],
   "source": [
    "torch.save(net, \"model_lstm.pt\")"
   ]
  },
  {
   "cell_type": "markdown",
   "id": "a6a1e550-d081-40f7-a95e-0c29c6879841",
   "metadata": {},
   "source": [
    "### Test the model"
   ]
  },
  {
   "cell_type": "code",
   "execution_count": 486,
   "id": "a98feb46-d1ce-4789-a11a-2118519af586",
   "metadata": {},
   "outputs": [
    {
     "name": "stdout",
     "output_type": "stream",
     "text": [
      "Test mean cross-entropy loss: 0.449\n",
      "Test accuracy: 0.840 \n",
      "\n",
      "         Actual class count  Predicted class count    TP  Precision  Recall  \\\n",
      "Class 0                 8.0                    1.0   0.0       0.00    0.00   \n",
      "Class 1                28.0                   33.0  25.0       0.76    0.89   \n",
      "Class 2                64.0                   66.0  59.0       0.89    0.92   \n",
      "\n",
      "           F1  \n",
      "Class 0   NaN  \n",
      "Class 1  0.82  \n",
      "Class 2  0.90  \n",
      "Weighted F1-score is 0.8056.\n"
     ]
    }
   ],
   "source": [
    "test_losses = []\n",
    "test_correct_num = []\n",
    "\n",
    "# Initialize table to save metrics\n",
    "labels_classes_metrics = np.zeros((3,6))\n",
    "values, counts = np.unique(y_test, return_counts=True)\n",
    "for v, c in zip(values, counts):\n",
    "    labels_classes_metrics[v,0] = c\n",
    "\n",
    "# init hidden state\n",
    "net.eval()\n",
    "\n",
    "for inputs, labels_true in test_loader:\n",
    "    h = net.init_hidden(batch_size)\n",
    "\n",
    "    if(train_on_gpu):\n",
    "        inputs, labels_true = inputs.cuda(), labels_true.cuda()\n",
    "\n",
    "\n",
    "    output, _ = net(inputs, h)\n",
    "    test_loss = criterion(output.squeeze(), labels_true)\n",
    "    test_losses.append(test_loss.item())\n",
    "\n",
    "    softmax = nn.Softmax(dim=1)\n",
    "    pred = softmax(output)\n",
    "    pred = torch.argmax(pred, dim=1)\n",
    "    correct_tensor = pred.eq(labels_true.view_as(pred)).numpy()\n",
    "    test_correct_num.append(np.sum(correct_tensor))\n",
    "    \n",
    "    # Add statistics to the table\n",
    "    values, counts = pred.unique(return_counts=True)\n",
    "    for v, c in zip(values, counts):\n",
    "        labels_classes_metrics[v,1] += c\n",
    "    conf_mat = confusion_matrix(pred, labels_true, labels=[0,1,2])\n",
    "    for i in range(conf_mat.shape[1]):\n",
    "        labels_classes_metrics[i,2]+= conf_mat[i,i]\n",
    "    \n",
    "\n",
    "test_accuracy_mean = sum(test_correct_num)/len(test_loader.dataset)\n",
    "test_loss_mean = np.mean(test_losses)\n",
    "print(\"Test mean cross-entropy loss: {:.3f}\".format(np.mean(test_loss_mean)))\n",
    "print(\"Test accuracy: {:.3f} \\n\".format(test_accuracy_mean))\n",
    "\n",
    "labels_classes_metrics[:,3] = np.round(labels_classes_metrics[:,2]/labels_classes_metrics[:,1],2)\n",
    "labels_classes_metrics[:,4] = np.round(labels_classes_metrics[:,2]/labels_classes_metrics[:,0],2)\n",
    "labels_classes_metrics[:,5] = np.round(2*labels_classes_metrics[:,4]*labels_classes_metrics[:,3]/(labels_classes_metrics[:,4]+labels_classes_metrics[:,3]),2)\n",
    "metrics_stats = pd.DataFrame(labels_classes_metrics, columns=['Actual class count', 'Predicted class count', 'TP', 'Precision','Recall','F1'], index=['Class 0', 'Class 1', 'Class 2'])\n",
    "print(metrics_stats)\n",
    "\n",
    "labels_classes_metrics = np.nan_to_num(labels_classes_metrics)\n",
    "F1_weighted = (labels_classes_metrics[0,0]*labels_classes_metrics[0,5] + labels_classes_metrics[1,0]*labels_classes_metrics[1,5] + labels_classes_metrics[2,0]*labels_classes_metrics[2,5])/(labels_classes_metrics[0,0]+labels_classes_metrics[1,0]+labels_classes_metrics[2,0])\n",
    "print(\"Weighted F1-score is {}.\".format(F1_weighted))"
   ]
  },
  {
   "cell_type": "markdown",
   "id": "7b5fd672-fc92-44d8-9afe-0c6f5c3ddefe",
   "metadata": {},
   "source": [
    "The table above summarizes the test statistics. Precision, recall, F1 metrics are calculated separately for each class and the weighted F1-score is found. \n",
    "\n",
    "It can be observed that for the class 'N' (which had small number of samples), the probelm with prediction exists. Even though stratification was used to divide the data into train/validation/test in accordance with imbalance - the predictions for the concrete class are not accurate. However, for the two other label classes 'O' and 'P' the results are pretty good, the F1-score is high, telling that the learning process gone well."
   ]
  },
  {
   "cell_type": "markdown",
   "id": "d0f068a4-ee18-45c7-8b67-bc1a809b875f",
   "metadata": {},
   "source": [
    "### Make single prediction with the model"
   ]
  },
  {
   "cell_type": "code",
   "execution_count": 487,
   "id": "c03e0714-3433-44f0-9195-c3a71dbd54a5",
   "metadata": {},
   "outputs": [],
   "source": [
    "def label_predict(post_original, sequence_length=30):\n",
    "        post = clean(post_original)\n",
    "        post = encode_post(post)\n",
    "        corpus_encoded = [post]\n",
    "        features = pad_post(corpus_encoded,sequence_length=sequence_length)\n",
    "        features = torch.from_numpy(features)\n",
    "        \n",
    "        if(train_on_gpu):\n",
    "            features=features.cuda()\n",
    "            \n",
    "        batch_size = 1\n",
    "        h = net.init_hidden(batch_size)\n",
    "        output, _ = net(features, h)\n",
    "        softmax = nn.Softmax(dim=1)\n",
    "        pred = softmax(output)\n",
    "        lbl = torch.argmax(pred, dim=1).item()\n",
    "\n",
    "        print(\"The predicted class for the text '{}' is {} with probability {:.3f}.\".format(post_original, lbls[lbl], pred.max()))"
   ]
  },
  {
   "cell_type": "code",
   "execution_count": 488,
   "id": "2a1c97b6-86cc-436a-abad-3b50f3a2ab1c",
   "metadata": {},
   "outputs": [
    {
     "name": "stdout",
     "output_type": "stream",
     "text": [
      "The predicted class for the text 'The book is very interesting, I love it very much.' is P with probability 0.988.\n",
      "The predicted class for the text 'The app is pretty nice, however, the problem is that it is hard to write sentences there.' is O with probability 0.549.\n"
     ]
    }
   ],
   "source": [
    "lbls = {2:'P',1:'O',0:'N'}\n",
    "post1 = 'The book is very interesting, I love it very much.'\n",
    "post2 = 'The app is pretty nice, however, the problem is that it is hard to write sentences there.'\n",
    "label_predict(post1, sequence_length=sequence_length)\n",
    "label_predict(post2, sequence_length=sequence_length)"
   ]
  },
  {
   "cell_type": "code",
   "execution_count": null,
   "id": "00f76233-ba87-4d8c-8f6a-8613f656315f",
   "metadata": {},
   "outputs": [],
   "source": []
  }
 ],
 "metadata": {
  "kernelspec": {
   "display_name": "sentiment_kernel",
   "language": "python",
   "name": "sentiment_kernel"
  },
  "language_info": {
   "codemirror_mode": {
    "name": "ipython",
    "version": 3
   },
   "file_extension": ".py",
   "mimetype": "text/x-python",
   "name": "python",
   "nbconvert_exporter": "python",
   "pygments_lexer": "ipython3",
   "version": "3.10.9"
  }
 },
 "nbformat": 4,
 "nbformat_minor": 5
}
